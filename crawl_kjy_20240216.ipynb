{
  "cells": [
    {
      "cell_type": "markdown",
      "metadata": {
        "id": "view-in-github",
        "colab_type": "text"
      },
      "source": [
        "<a href=\"https://colab.research.google.com/github/kalvin77/dev/blob/master/crawl_kjy_20240216.ipynb\" target=\"_parent\"><img src=\"https://colab.research.google.com/assets/colab-badge.svg\" alt=\"Open In Colab\"/></a>"
      ]
    },
    {
      "cell_type": "code",
      "execution_count": null,
      "metadata": {
        "id": "hm-iB9BQpYL9"
      },
      "outputs": [],
      "source": [
        "import requests\n",
        "import json\n",
        "import pandas as pd\n",
        "import time\n",
        "\n",
        "import pickle\n",
        "import re\n",
        "\n",
        "from lxml import html"
      ]
    },
    {
      "cell_type": "code",
      "execution_count": null,
      "metadata": {
        "id": "z_o0yNoupYMC"
      },
      "outputs": [],
      "source": []
    },
    {
      "cell_type": "markdown",
      "metadata": {
        "id": "fCAoDghcpYMC"
      },
      "source": [
        "목표 :\n",
        "item 리스트를 받아오는 것"
      ]
    },
    {
      "cell_type": "code",
      "execution_count": null,
      "metadata": {
        "colab": {
          "base_uri": "https://localhost:8080/"
        },
        "id": "pUAS2iXypYME",
        "outputId": "52b0fa44-cf45-456a-d2ce-9939f9e31275"
      },
      "outputs": [
        {
          "output_type": "stream",
          "name": "stdout",
          "text": [
            "File saved as 'item.html'\n"
          ]
        }
      ],
      "source": [
        "headers = {\n",
        "    \"Accept\": \"application/json, text/javascript, */*; q=0.01\",\n",
        "    \"Accept-Encoding\": \"gzip, deflate, br\",\n",
        "    \"Accept-Language\": \"ko-KR,ko;q=0.9,en-US;q=0.8,en;q=0.7\",\n",
        "    \"Connection\": \"keep-alive\",\n",
        "    \"Cookie\": \"CHECKED=d7882cf2c94b11ee835b506b8d86ffe066269655708456532; PCID=17077038070836524370231; FSID=s8q0ov501u3a2kk6vg04; where=SE%3DY%26CHNL_ID%3D0000016102%26CK_WHERE%3De_ggbr%26et%3D1707703807083; CKWHERE=e_ggbr; TS01292a13=010874cb801381c338d2c8f23dd0ee3747612f50e87af328d15dfb5834ccfb044910d2e8abe25e78cb9ed358f0cca98e49edce7cac; _fbp=fb.1.1707703815946.1382686319; ab.storage.userId.113debac-6879-41dd-ad72-aa2b290b8502=%7B%22g%22%3A%2217077038070836524370231%22%2C%22c%22%3A1707703815974%2C%22l%22%3A1707703815976%7D; ab.storage.deviceId.113debac-6879-41dd-ad72-aa2b290b8502=%7B%22g%22%3A%2257525432-0522-23b1-a8bf-3bf51e517f67%22%2C%22c%22%3A1707703815977%2C%22l%22%3A1707703815977%7D; SSGDOMAIN=emart_emart; RC_RESOLUTION=1536*864; RC_COLOR=24; mbr_test_type=A; TS0197eadc=010874cb805d8b8bf515e2e57229a43ea76054e532ae2df00a3a149496d01d28878fa59aaa04e690ae0ba9de6cee77573d03a6832f; emf.272.euuid.v5=e2d53237-m1f5-4dc0-seae-fe07928f8541; CSTALK_POPUP_OPEN=null; _gcl_aw=GCL.1707703817.CjwKCAiA_aGuBhACEiwAly57MTDSGE3JT8bk6CHhFZFqfyKFQ_vAIPLj1Msv-RfGUzdq9tJG7aZUAxoCaJAQAvD_BwE; _gcl_au=1.1.368898236.1707703817; _ga=GA1.1.733970405.1707703817; a1_sid=%2C18d5fded817a2907%2C1707703817285%2Cemart; a1_rid=%2C18d5fded817a2907%2C1707703817285%2Cemart; a1_ity=ks; a1_gid=tEQuqmWWMGQADEFp; a1_sgid=tEQuqmWWMGQADEFp1707703817291; ab.storage.sessionId.113debac-6879-41dd-ad72-aa2b290b8502=%7B%22g%22%3A%223ffbac8e-1430-d067-c48a-e5de8aa682b4%22%2C%22e%22%3A1707705946764%2C%22c%22%3A1707703815975%2C%22l%22%3A1707704146764%7D; TS015a5cbc=010874cb806510fb28d3fa04a575803a878de2df0a7fa44e4dbd0a1c6e02d26d4805e7ebea9999204511cb05e3ad8e32f530b6a4b3; _dd_s=rum=0&expire=1707705202599; cto_bundle=TPS0h19CZzB3bG1aSmdUc2prN21YRldNMVNYb2V6T0JobFU3M0FTUTNLJTJCOVYwUk5lViUyRnFBM3lERzBMRFRSeEVaSFUzZTN4YkRsWDh5Vm5YS3ZhQWVhdWh0NkF1WWJ4QU5iQ2toOHh0Q090bW5ZbDIxQlFDVFUyYWh2bCUyRjdHVUtVaTc3UWhsU1owZ2RKd0tGWlc2WkJzJTJCbUJSaEw3aWh3WEpXZ1VTSTNWU1NYcXQxbG5rJTJCJTJCczBtQ2JMNTN2eXBkVks1aGJDQVp6WEV3UDZ0RkhMTkgxNzdMJTJGWHclM0QlM0Q; FSID1=s8q12ek6vg0501u3a2k7; JSESSIONID=5FC42427AE010E4B20CE70EE2CBD5BAC.emart3504; _ga_E0P8DK53C8=GS1.1.1707703817.1.1.1707704303.56.0.1167483842\",\n",
        "    \"Host\": \"emart.ssg.com\",\n",
        "    \"Referer\": \"https://emart.ssg.com/item/itemView.ssg?itemId=2097001833032&siteNo=7009&salestrNo=2449&tlidSrchWd=%EB%B8%94%EB%A3%A8%EB%B2%A0%EB%A6%AC&srchPgNo=1\",\n",
        "    \"Sec-Fetch-Dest\": \"empty\",\n",
        "    \"Sec-Fetch-Mode\": \"cors\",\n",
        "    \"Sec-Fetch-Site\": \"same-origin\",\n",
        "    \"User-Agent\": \"Mozilla/5.0 (Windows NT 10.0; Win64; x64) AppleWebKit/537.36 (KHTML, like Gecko) Chrome/121.0.0.0 Safari/537.36\",\n",
        "    \"X-Requested-With\": \"XMLHttpRequest\",\n",
        "    \"sec-ch-ua\": \"\\\"Not A(Brand\\\";v=\\\"99\\\", \\\"Google Chrome\\\";v=\\\"121\\\", \\\"Chromium\\\";v=\\\"121\\\"\",\n",
        "    \"sec-ch-ua-mobile\": \"?0\",\n",
        "    \"sec-ch-ua-platform\": \"Windows\"\n",
        "}\n",
        "\n",
        "response = requests.get('https://emart.ssg.com/disp/theme/category.ssg?dispCtgId=6000224023#content', headers=headers)\n",
        "\n",
        "with open('item.html', 'wb') as f:\n",
        "    f.write(response.content)\n",
        "\n",
        "print(\"File saved as 'item.html'\")"
      ]
    },
    {
      "cell_type": "code",
      "source": [
        "from transformers import pipeline"
      ],
      "metadata": {
        "id": "hnTcx_PXKjQW"
      },
      "execution_count": null,
      "outputs": []
    },
    {
      "cell_type": "code",
      "source": [
        "#씀\n",
        "def getsentiment(text):\n",
        "    # 감정 분석 파이프라인 생성\n",
        "    sentiment_pipeline = pipeline('sentiment-analysis', model='monologg/koelectra-base-finetuned-nsmc')\n",
        "\n",
        "    # 감정 분석 실행\n",
        "    result = sentiment_pipeline(text)\n",
        "\n",
        "    # 결과 출력\n",
        "    return result\n",
        "\n"
      ],
      "metadata": {
        "id": "Y9KxeAdKKP5l"
      },
      "execution_count": null,
      "outputs": []
    },
    {
      "cell_type": "code",
      "execution_count": null,
      "metadata": {
        "id": "ltEl3ykgiH0C"
      },
      "outputs": [],
      "source": [
        "#씀\n",
        "def getReview(itemcode):\n",
        "    url = f'https://emart.ssg.com/item/ajaxItemCommentList.ssg?itemId={itemcode}&siteNo=7009'\n",
        "    response = requests.get(url, headers=headers)\n",
        "\n",
        "    # JSON 파싱\n",
        "    data = json.loads(response.content)\n",
        "\n",
        "    # 'postngTitleNm'과 'wrtDt' 값 추출\n",
        "    postngTitleNm = data['pageDto']['resultList'][0]['postngTitleNm']\n",
        "    postngTitleNm = postngTitleNm.replace('\\n', '')\n",
        "    sentiment_json = getsentiment(postngTitleNm)\n",
        "    print(sentiment_json)\n",
        "    sentiment_s = sentiment_json[0]['label']\n",
        "    sentiment_n = sentiment_json[0]['score']\n",
        "\n",
        "    wrtDt = data['pageDto']['resultList'][0]['wrtDt']  # 작성 날짜 추가\n",
        "    val = f'\"\"{itemcode}\", \"{postngTitleNm}\",\"{sentiment_s}\",\"{sentiment_n}\", \"{wrtDt}\"\\n'\n",
        "    return val"
      ]
    },
    {
      "cell_type": "code",
      "source": [
        "print(str)"
      ],
      "metadata": {
        "colab": {
          "base_uri": "https://localhost:8080/"
        },
        "id": "oDBj3FCICeD2",
        "outputId": "6009b0ba-d78c-4c73-bac6-adc3d912005d"
      },
      "execution_count": null,
      "outputs": [
        {
          "output_type": "stream",
          "name": "stdout",
          "text": [
            "<class 'str'>\n"
          ]
        }
      ]
    },
    {
      "cell_type": "code",
      "execution_count": null,
      "metadata": {
        "colab": {
          "base_uri": "https://localhost:8080/"
        },
        "id": "cz-unO-5h_sA",
        "outputId": "59588732-964d-436d-8456-f09e556d60ea"
      },
      "outputs": [
        {
          "output_type": "stream",
          "name": "stdout",
          "text": [
            "[{'label': 'positive', 'score': 0.9721826314926147}]\n",
            "body is \"\"2097001308233\", \"굿 마음에 들어요 또 올게요\",\"positive\",\"0.9721826314926147\", \"20240215\"\n",
            "\n",
            "[{'label': 'positive', 'score': 0.9989080429077148}]\n",
            "body is \"\"2097000938950\", \"항상 구입하는 가성비 좋아요\",\"positive\",\"0.9989080429077148\", \"20240215\"\n",
            "\n",
            "[{'label': 'positive', 'score': 0.9894992113113403}]\n",
            "body is \"\"2097001767641\", \"조아요ㅇㅇ조아ㅇ조아ㅇ\",\"positive\",\"0.9894992113113403\", \"20240215\"\n",
            "\n",
            "[{'label': 'positive', 'score': 0.9993594288825989}]\n",
            "body is \"\"2097000818092\", \"할인해서 샀는데 쌀도 맛있고 좋아요~20kg짜리가 없어서 아쉽네요.\",\"positive\",\"0.9993594288825989\", \"20240215\"\n",
            "\n",
            "[{'label': 'positive', 'score': 0.9993982315063477}]\n",
            "body is \"\"1000025189727\", \"매번 주문합니다.배송도 총알이네요!무엇보다 가성비 좋고 맛나욥\",\"positive\",\"0.9993982315063477\", \"20240215\"\n",
            "\n",
            "[{'label': 'positive', 'score': 0.9953514337539673}]\n",
            "body is \"\"2097000904245\", \"껍질이 얇고 단단해요 새콤달콤 맛있어요\",\"positive\",\"0.9953514337539673\", \"20240215\"\n",
            "\n",
            "[{'label': 'positive', 'score': 0.9922550916671753}]\n",
            "body is \"\"1000045138360\", \"자주 시켜먹어요 ㅎㅎ\",\"positive\",\"0.9922550916671753\", \"20240215\"\n",
            "\n",
            "[{'label': 'negative', 'score': 0.9778131246566772}]\n",
            "body is \"\"2097001279816\", \"잘 익긴했는데 당도는 별루네요\",\"negative\",\"0.9778131246566772\", \"20240215\"\n",
            "\n",
            "[{'label': 'positive', 'score': 0.9839275479316711}]\n",
            "body is \"\"2097000837024\", \"좋아요 좋아요 좋아요 좋아요\",\"positive\",\"0.9839275479316711\", \"20240215\"\n",
            "\n",
            "[{'label': 'positive', 'score': 0.953623354434967}]\n",
            "body is \"\"2097001515051\", \"요리용, 주스용으로 재구매 하고 있습니다. 맛은 그리 달지 않아요.\",\"positive\",\"0.953623354434967\", \"20240215\"\n",
            "\n",
            "[{'label': 'negative', 'score': 0.95588219165802}]\n",
            "body is \"\"2097000895581\", \"신선한데 밍밍한 맛이었어요ㅠ\",\"negative\",\"0.95588219165802\", \"20240215\"\n",
            "\n",
            "[{'label': 'positive', 'score': 0.9993067979812622}]\n",
            "body is \"\"2097001293171\", \"할인해서 저렴하게 샀는데 달고 맛있어요\",\"positive\",\"0.9993067979812622\", \"20240215\"\n",
            "\n",
            "[{'label': 'negative', 'score': 0.9641596078872681}]\n",
            "body is \"\"2097000879574\", \"큰기대 안했는데겁나 달아요^^\",\"negative\",\"0.9641596078872681\", \"20240215\"\n",
            "\n",
            "[{'label': 'negative', 'score': 0.9953727126121521}]\n",
            "body is \"\"2097001295083\", \"사진과 매우 다름.\",\"negative\",\"0.9953727126121521\", \"20240215\"\n",
            "\n",
            "[{'label': 'negative', 'score': 0.5357069373130798}]\n",
            "body is \"\"2097001816325\", \"자주 구매하는 상품입니다.배송감사합니다.\",\"negative\",\"0.5357069373130798\", \"20240215\"\n",
            "\n",
            "[{'label': 'positive', 'score': 0.765339195728302}]\n",
            "body is \"\"2097001557433\", \"요즘 사과 너무비싸요~~\",\"positive\",\"0.765339195728302\", \"20240215\"\n",
            "\n",
            "[{'label': 'positive', 'score': 0.9972290396690369}]\n",
            "body is \"\"2097000924700\", \"싱싱하고 달콤해서 맛있어요\",\"positive\",\"0.9972290396690369\", \"20240215\"\n",
            "\n",
            "[{'label': 'positive', 'score': 0.9983626008033752}]\n",
            "body is \"\"2097001031766\", \"저렴하니조아요 쓱배송짱조아요\",\"positive\",\"0.9983626008033752\", \"20240215\"\n",
            "\n",
            "[{'label': 'negative', 'score': 0.9987223744392395}]\n",
            "body is \"\"2097001364543\", \"벼로신선하지도않코맛도 무맛\",\"negative\",\"0.9987223744392395\", \"20240215\"\n",
            "\n",
            "[{'label': 'positive', 'score': 0.5511156320571899}]\n",
            "body is \"\"2097001280942\", \"세척사과 먹기 편해요\",\"positive\",\"0.5511156320571899\", \"20240215\"\n",
            "\n"
          ]
        }
      ],
      "source": [
        "#씀\n",
        "# 웹 페이지 URL\n",
        "url = 'https://emart.ssg.com/disp/theme/category.ssg?dispCtgId=6000224023#content'\n",
        "\n",
        "# requests를 통해 웹 페이지의 HTML 가져오기\n",
        "response = requests.get(url)\n",
        "\n",
        "# 웹 페이지에서 HTML을 성공적으로 가져왔다면\n",
        "if response.status_code == 200:\n",
        "    # 응답에서 HTML을 가져와 lxml.html을 사용하여 파싱\n",
        "    tree = html.fromstring(response.content)\n",
        "\n",
        "    # XPath를 사용해 특정 데이터를 포함하는 요소 찾기\n",
        "    data_info_elements = tree.xpath('//a[@data-info]')\n",
        "\n",
        "    processed_itemcodes = set()  # 처리한 itemcode를 추적\n",
        "    count = 0\n",
        "\n",
        "    csv_body='itemcode, review, sentimetal-c, sentimental-n, writeDt\\n'\n",
        "    for element in data_info_elements:\n",
        "        if count >= 20:  # 최대 5개까지만 처리\n",
        "            break\n",
        "        data_info = element.attrib['data-info']\n",
        "        # data_info를 itemcode로 변환하는 로직 필요\n",
        "        # 예시에서는 data_info 자체를 itemcode로 가정\n",
        "        itemcode = data_info  # 실제로는 data_info에서 itemcode 추출 로직 필요\n",
        "        if itemcode not in processed_itemcodes:\n",
        "            body = getReview(itemcode)\n",
        "            csv_body += body\n",
        "            print(f'body is {body}')\n",
        "            processed_itemcodes.add(itemcode)\n",
        "            count += 1\n",
        "else:\n",
        "    print(\"웹 페이지를 가져오는데 실패했다.\")\n"
      ]
    },
    {
      "cell_type": "code",
      "source": [
        "#씀, csv 저장\n",
        "with open('review_data2.csv', 'w', encoding='utf-8') as file:\n",
        "    file.write(csv_body)\n"
      ],
      "metadata": {
        "id": "5xja3M3XA7SH"
      },
      "execution_count": null,
      "outputs": []
    },
    {
      "cell_type": "code",
      "source": [
        "##################끝"
      ],
      "metadata": {
        "id": "Xw_pxJ7H_aQF"
      },
      "execution_count": null,
      "outputs": []
    },
    {
      "cell_type": "markdown",
      "metadata": {
        "id": "2SdbaoYp5sOX"
      },
      "source": [
        "~여기까지~\n"
      ]
    },
    {
      "cell_type": "code",
      "source": [
        "from transformers import pipeline\n",
        "\n",
        "# 감정 분석 파이프라인 생성\n",
        "sentiment_pipeline = pipeline('sentiment-analysis', model='monologg/koelectra-base-finetuned-nsmc')\n",
        "\n",
        "# 분석할 텍스트\n",
        "#text = \"아ㅋㅋㅋㅋㅋㅋㅋ.\" # [{'label': 'negative', 'score': 0.517128050327301}]\n",
        "text = \"졸리네^^\"\n",
        "# 감정 분석 실행\n",
        "result = sentiment_pipeline(text)\n",
        "\n",
        "# 결과 출력\n",
        "print(result)"
      ],
      "metadata": {
        "colab": {
          "base_uri": "https://localhost:8080/"
        },
        "id": "MFCsJh3iRHPe",
        "outputId": "bdc7fabb-2e14-48e0-a18e-b59b149db90a"
      },
      "execution_count": null,
      "outputs": [
        {
          "output_type": "stream",
          "name": "stdout",
          "text": [
            "[{'label': 'negative', 'score': 0.9930304884910583}]\n"
          ]
        }
      ]
    }
  ],
  "metadata": {
    "colab": {
      "provenance": [],
      "include_colab_link": true
    },
    "kernelspec": {
      "display_name": "Python 3",
      "language": "python",
      "name": "python3"
    },
    "language_info": {
      "codemirror_mode": {
        "name": "ipython",
        "version": 3
      },
      "file_extension": ".py",
      "mimetype": "text/x-python",
      "name": "python",
      "nbconvert_exporter": "python",
      "pygments_lexer": "ipython3",
      "version": "3.12.1"
    }
  },
  "nbformat": 4,
  "nbformat_minor": 0
}